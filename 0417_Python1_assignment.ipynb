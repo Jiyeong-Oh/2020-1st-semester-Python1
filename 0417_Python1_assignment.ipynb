{
  "nbformat": 4,
  "nbformat_minor": 0,
  "metadata": {
    "colab": {
      "name": "0417 Python1-assignment",
      "provenance": [],
      "authorship_tag": "ABX9TyM5i7/SSD/dYCdRN8JIA1y2",
      "include_colab_link": true
    },
    "kernelspec": {
      "name": "python3",
      "display_name": "Python 3"
    }
  },
  "cells": [
    {
      "cell_type": "markdown",
      "metadata": {
        "id": "view-in-github",
        "colab_type": "text"
      },
      "source": [
        "<a href=\"https://colab.research.google.com/github/Jiyeong-Oh/Python1-assignment1/blob/master/0417_Python1_assignment.ipynb\" target=\"_parent\"><img src=\"https://colab.research.google.com/assets/colab-badge.svg\" alt=\"Open In Colab\"/></a>"
      ]
    },
    {
      "cell_type": "code",
      "metadata": {
        "id": "KWAvbv2mFumc",
        "colab_type": "code",
        "colab": {}
      },
      "source": [
        "#1-1\n",
        "a_list=[1, 'hello', [1,2,3], True]"
      ],
      "execution_count": 0,
      "outputs": []
    },
    {
      "cell_type": "code",
      "metadata": {
        "id": "casPWg6jNqSw",
        "colab_type": "code",
        "colab": {
          "base_uri": "https://localhost:8080/",
          "height": 34
        },
        "outputId": "e10a843e-8754-42b2-9cc3-ae24b6e0ba28"
      },
      "source": [
        "#1-2\n",
        "print(a_list[1])"
      ],
      "execution_count": 2,
      "outputs": [
        {
          "output_type": "stream",
          "text": [
            "hello\n"
          ],
          "name": "stdout"
        }
      ]
    },
    {
      "cell_type": "code",
      "metadata": {
        "id": "tQIsTdb-NsPV",
        "colab_type": "code",
        "colab": {
          "base_uri": "https://localhost:8080/",
          "height": 34
        },
        "outputId": "ae57ab74-bce5-4bf4-85b6-a97e3973b58b"
      },
      "source": [
        "#1-3\n",
        "print(a_list[1:4])"
      ],
      "execution_count": 3,
      "outputs": [
        {
          "output_type": "stream",
          "text": [
            "['hello', [1, 2, 3], True]\n"
          ],
          "name": "stdout"
        }
      ]
    },
    {
      "cell_type": "code",
      "metadata": {
        "id": "FB-PPuo1I0-z",
        "colab_type": "code",
        "colab": {
          "base_uri": "https://localhost:8080/",
          "height": 52
        },
        "outputId": "2afcbba4-b193-4cc5-a4af-b61f0dea83f4"
      },
      "source": [
        "#1-4\n",
        "A=[1,'a']\n",
        "B=[2,1,'d']\n",
        "C=A.extend(B)\n",
        "print(C)\n",
        "print(A)\n",
        "# when I print out C, the result is 'none'.\n",
        "# And the second problem is that the result of the A changes"
      ],
      "execution_count": 4,
      "outputs": [
        {
          "output_type": "stream",
          "text": [
            "None\n",
            "[1, 'a', 2, 1, 'd']\n"
          ],
          "name": "stdout"
        }
      ]
    },
    {
      "cell_type": "code",
      "metadata": {
        "id": "Wf4eWg1YKh8G",
        "colab_type": "code",
        "colab": {
          "base_uri": "https://localhost:8080/",
          "height": 70
        },
        "outputId": "31d6c4b0-f73d-40fb-8460-a8ed0c312323"
      },
      "source": [
        "# So, to give C the elements and make A to the default list A, I applied some code like following:\n",
        "C=A\n",
        "A=[1,'a']\n",
        "print(A)\n",
        "print(B)\n",
        "print(C) #C is the concatenation of A and B."
      ],
      "execution_count": 5,
      "outputs": [
        {
          "output_type": "stream",
          "text": [
            "[1, 'a']\n",
            "[2, 1, 'd']\n",
            "[1, 'a', 2, 1, 'd']\n"
          ],
          "name": "stdout"
        }
      ]
    },
    {
      "cell_type": "code",
      "metadata": {
        "id": "mzsoPhILOHO4",
        "colab_type": "code",
        "colab": {}
      },
      "source": [
        "#2\n",
        "soundtrack_dic={'The Bodyguard':'1992','Saturday Night Fever':'1977'}"
      ],
      "execution_count": 0,
      "outputs": []
    },
    {
      "cell_type": "code",
      "metadata": {
        "id": "U7s4glosZa9y",
        "colab_type": "code",
        "colab": {
          "base_uri": "https://localhost:8080/",
          "height": 34
        },
        "outputId": "08aee250-08c4-4e01-88c1-9b33dcea69f0"
      },
      "source": [
        "#2-1\n",
        "soundtrack_dic.keys()"
      ],
      "execution_count": 7,
      "outputs": [
        {
          "output_type": "execute_result",
          "data": {
            "text/plain": [
              "dict_keys(['The Bodyguard', 'Saturday Night Fever'])"
            ]
          },
          "metadata": {
            "tags": []
          },
          "execution_count": 7
        }
      ]
    },
    {
      "cell_type": "code",
      "metadata": {
        "id": "ovswYpdBZhEK",
        "colab_type": "code",
        "colab": {
          "base_uri": "https://localhost:8080/",
          "height": 34
        },
        "outputId": "c5b7729e-4aa7-4e63-fa5c-7085dfe3df65"
      },
      "source": [
        "#2-2\n",
        "soundtrack_dic.values()"
      ],
      "execution_count": 8,
      "outputs": [
        {
          "output_type": "execute_result",
          "data": {
            "text/plain": [
              "dict_values(['1992', '1977'])"
            ]
          },
          "metadata": {
            "tags": []
          },
          "execution_count": 8
        }
      ]
    },
    {
      "cell_type": "code",
      "metadata": {
        "id": "556Zt6PUZqSw",
        "colab_type": "code",
        "colab": {
          "base_uri": "https://localhost:8080/",
          "height": 70
        },
        "outputId": "e29c57ef-f65b-460c-dd64-8ec06c1d1037"
      },
      "source": [
        "#3-1\n",
        "wanna_make_this_to_set=['rap','house','electronic music','rap']\n",
        "print(type(wanna_make_this_to_set))\n",
        "\n",
        "this_is_set=set(wanna_make_this_to_set)\n",
        "print(this_is_set)\n",
        "print(type(this_is_set))"
      ],
      "execution_count": 9,
      "outputs": [
        {
          "output_type": "stream",
          "text": [
            "<class 'list'>\n",
            "{'rap', 'house', 'electronic music'}\n",
            "<class 'set'>\n"
          ],
          "name": "stdout"
        }
      ]
    },
    {
      "cell_type": "code",
      "metadata": {
        "id": "zywSz3GtjZBG",
        "colab_type": "code",
        "colab": {
          "base_uri": "https://localhost:8080/",
          "height": 87
        },
        "outputId": "facc8859-717b-4b91-a74f-13f6fc587c47"
      },
      "source": [
        "#3-2\n",
        "A=[1,2,2,1]\n",
        "B=set([1,2,2,1])\n",
        "print(A)\n",
        "print(sum(A))\n",
        "\n",
        "print(B)\n",
        "# As B is a set, it does not recognize the identical data to 'different data' \n",
        "print(sum(B))\n",
        "#Therefore, the sum of the A is 1+2+2+1,\n",
        "# while the sum of the B is 1+2.\n",
        "# Conclusion: sum(A) is not equivalent to sum(B)."
      ],
      "execution_count": 10,
      "outputs": [
        {
          "output_type": "stream",
          "text": [
            "[1, 2, 2, 1]\n",
            "6\n",
            "{1, 2}\n",
            "3\n"
          ],
          "name": "stdout"
        }
      ]
    },
    {
      "cell_type": "code",
      "metadata": {
        "id": "os5wAHW7zITa",
        "colab_type": "code",
        "colab": {
          "base_uri": "https://localhost:8080/",
          "height": 34
        },
        "outputId": "fe8a463b-66ff-4f6d-a5a2-f5f58a9c0961"
      },
      "source": [
        "#To check,\n",
        "A=[1,2,2,1]\n",
        "B=set([1,2,2,1])\n",
        "if sum(A)==sum(B):\n",
        "  print('sum(A) is equivalent to sum(B)')\n",
        "else:\n",
        "  print('sum(A) is not equivalent to sum(B)')"
      ],
      "execution_count": 11,
      "outputs": [
        {
          "output_type": "stream",
          "text": [
            "sum(A) is not equivalent to sum(B)\n"
          ],
          "name": "stdout"
        }
      ]
    },
    {
      "cell_type": "code",
      "metadata": {
        "id": "_5-xRc_nlDa8",
        "colab_type": "code",
        "colab": {
          "base_uri": "https://localhost:8080/",
          "height": 34
        },
        "outputId": "bfc8d115-e294-402e-ba9c-48a6115db2bc"
      },
      "source": [
        "#3-3\n",
        "album_set1= set(['Thriller','AC/DC','Back in Black'])\n",
        "album_set2= set(['AC/DC','Back in Black','The Dark Side of the Moon'])\n",
        "album_set3=album_set1|album_set2\n",
        "print(album_set3)"
      ],
      "execution_count": 12,
      "outputs": [
        {
          "output_type": "stream",
          "text": [
            "{'Back in Black', 'AC/DC', 'The Dark Side of the Moon', 'Thriller'}\n"
          ],
          "name": "stdout"
        }
      ]
    },
    {
      "cell_type": "code",
      "metadata": {
        "id": "FWLvv2xbvB7h",
        "colab_type": "code",
        "colab": {
          "base_uri": "https://localhost:8080/",
          "height": 34
        },
        "outputId": "ec11abea-a9b1-4030-c008-0763c88a0a38"
      },
      "source": [
        "#3-4\n",
        "if album_set1.issubset(album_set3):\n",
        "  print('album_set1 is a subset of album_set3')\n",
        "else:\n",
        "  print('album_set1 is not a subset of album_set3')"
      ],
      "execution_count": 13,
      "outputs": [
        {
          "output_type": "stream",
          "text": [
            "album_set1 is a subset of album_set3\n"
          ],
          "name": "stdout"
        }
      ]
    },
    {
      "cell_type": "code",
      "metadata": {
        "id": "LF4s9ohvvl8k",
        "colab_type": "code",
        "colab": {
          "base_uri": "https://localhost:8080/",
          "height": 34
        },
        "outputId": "31ce0dfd-cae1-46ed-f755-ed0177cece57"
      },
      "source": [
        "#4-1\n",
        "\n",
        "Dict={'Artist':'Michael','Genre':'R&B','Sales':10000}\n",
        "\n",
        "if Dict['Artist']=='Michael':\n",
        "  print(Dict['Genre'])\n",
        "else:\n",
        "  print('The name of the artist is not Michael')"
      ],
      "execution_count": 14,
      "outputs": [
        {
          "output_type": "stream",
          "text": [
            "R&B\n"
          ],
          "name": "stdout"
        }
      ]
    },
    {
      "cell_type": "code",
      "metadata": {
        "id": "37ylHlXQ73Eb",
        "colab_type": "code",
        "colab": {
          "base_uri": "https://localhost:8080/",
          "height": 34
        },
        "outputId": "dc1a846d-473f-4647-885a-fb06f527dd5e"
      },
      "source": [
        "#4-2-1\n",
        "\n",
        "temperature={'value':32,'celsius/fahrenheit':'fahrenheit'}\n",
        "# I just put the number which calculation with pen is easy(to check whether the program works)\n",
        "\n",
        "if temperature['celsius/fahrenheit']=='celsius':\n",
        "  print(temperature['value']*1.8+32,'F')\n",
        "else:\n",
        "  print((temperature['value']-32)/1.8,'C')"
      ],
      "execution_count": 15,
      "outputs": [
        {
          "output_type": "stream",
          "text": [
            "0.0 C\n"
          ],
          "name": "stdout"
        }
      ]
    },
    {
      "cell_type": "code",
      "metadata": {
        "id": "oCreIO3YhkKg",
        "colab_type": "code",
        "colab": {
          "base_uri": "https://localhost:8080/",
          "height": 34
        },
        "outputId": "3d2ffa10-2b94-4923-e45a-091783096446"
      },
      "source": [
        "4-2-2\n",
        "#I tried to print out L%2, but python spitted out the error message, that\n",
        "# list cannot be calculated with integer.\n",
        "\n",
        "L=[1,2,3,5,9,31,28,91]\n",
        "\n",
        "#Therefore, I searched for some operator which can calculate each element of a list.\n",
        "even=0\n",
        "odd=0\n",
        "for i in L:\n",
        "  if i % 2 == 0:\n",
        "    even+=1  \n",
        "  elif i % 2 == 1:\n",
        "    odd+=1\n",
        "print('the number of odd:{},the number of even:{}'.format(odd,even))\n"
      ],
      "execution_count": 84,
      "outputs": [
        {
          "output_type": "stream",
          "text": [
            "the number of odd:6,the number of even:2\n"
          ],
          "name": "stdout"
        }
      ]
    },
    {
      "cell_type": "code",
      "metadata": {
        "id": "Qw6EiYsNCw8U",
        "colab_type": "code",
        "colab": {
          "base_uri": "https://localhost:8080/",
          "height": 34
        },
        "outputId": "4d012c94-29be-4c18-9420-219880fe03da"
      },
      "source": [
        "#4-2-3\n",
        "\n",
        "prime=0\n",
        "L=[1,2,3,5,9,31,28,91]\n",
        "\n",
        "for i in L:\n",
        "  if (i <=1):\n",
        "    del i\n",
        "  elif (i %2)==0:\n",
        "    del i\n",
        "  elif ()\n",
        "  ....\n",
        "\n",
        "print('{}'.format(prime))"
      ],
      "execution_count": 94,
      "outputs": [
        {
          "output_type": "stream",
          "text": [
            "0\n"
          ],
          "name": "stdout"
        }
      ]
    }
  ]
}