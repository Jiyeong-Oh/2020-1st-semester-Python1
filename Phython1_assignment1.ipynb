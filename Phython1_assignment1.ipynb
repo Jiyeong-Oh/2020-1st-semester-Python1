{
  "nbformat": 4,
  "nbformat_minor": 0,
  "metadata": {
    "colab": {
      "name": "Phython1-assignment1",
      "provenance": [],
      "collapsed_sections": [],
      "authorship_tag": "ABX9TyOG/szroQs4tPvt1rosauMv",
      "include_colab_link": true
    },
    "kernelspec": {
      "name": "python3",
      "display_name": "Python 3"
    }
  },
  "cells": [
    {
      "cell_type": "markdown",
      "metadata": {
        "id": "view-in-github",
        "colab_type": "text"
      },
      "source": [
        "<a href=\"https://colab.research.google.com/github/Jiyeong-Oh/Python1-assignment1/blob/master/Phython1_assignment1.ipynb\" target=\"_parent\"><img src=\"https://colab.research.google.com/assets/colab-badge.svg\" alt=\"Open In Colab\"/></a>"
      ]
    },
    {
      "cell_type": "code",
      "metadata": {
        "id": "qi0Kwq73EMsQ",
        "colab_type": "code",
        "outputId": "5e079fff-b820-4017-9f7b-33a4ca3c96c9",
        "colab": {
          "base_uri": "https://localhost:8080/",
          "height": 70
        }
      },
      "source": [
        "# pop quiz #1\n",
        "# Write your code below and press Shift+enter to execute\n",
        "my_name='Jiyeong Oh'\n",
        "my_wish = \"to see all of you face-to-face after Corona 19 is over.\"\n",
        "print(\"Hi!\")\n",
        "print(\"This is\", my_name)\n",
        "print('I hope', my_wish)"
      ],
      "execution_count": 0,
      "outputs": [
        {
          "output_type": "stream",
          "text": [
            "Hi!\n",
            "This is Jiyeong Oh\n",
            "I hope to see all of you face-to-face after Corona 19 is over\n"
          ],
          "name": "stdout"
        }
      ]
    },
    {
      "cell_type": "code",
      "metadata": {
        "id": "npH5E2TREAZ6",
        "colab_type": "code",
        "outputId": "16b4f0a6-f8d7-4c85-85c8-1bd5869cd86a",
        "colab": {
          "base_uri": "https://localhost:8080/",
          "height": 34
        }
      },
      "source": [
        "# Pop quiz #2 \n",
        "#2-1 Write your code below about \"What is the data type of the result 6 / 2? \"\n",
        "result_2_1=6/2\n",
        "print(type(result_2_1))"
      ],
      "execution_count": 0,
      "outputs": [
        {
          "output_type": "stream",
          "text": [
            "<class 'float'>\n"
          ],
          "name": "stdout"
        }
      ]
    },
    {
      "cell_type": "code",
      "metadata": {
        "id": "99JcrXVEEAru",
        "colab_type": "code",
        "outputId": "04c18a62-63b7-42a8-9986-81fe69f9bce3",
        "colab": {
          "base_uri": "https://localhost:8080/",
          "height": 34
        }
      },
      "source": [
        "#2-2 Write your code below about \"What is the data type of the result 6 // 2? \"\n",
        "result_2_2=6//2\n",
        "print(type(result_2_2))"
      ],
      "execution_count": 0,
      "outputs": [
        {
          "output_type": "stream",
          "text": [
            "<class 'int'>\n"
          ],
          "name": "stdout"
        }
      ]
    },
    {
      "cell_type": "code",
      "metadata": {
        "id": "nagO3D4MD24s",
        "colab_type": "code",
        "outputId": "b3f44582-df60-49c1-bc35-bfe71684bebf",
        "colab": {
          "base_uri": "https://localhost:8080/",
          "height": 34
        }
      },
      "source": [
        "# Pop-Quiz #3 \n",
        "# Write a code to read the total mins (e.g, 1300) to the right representing the hour, and the minute separately.\n",
        "\n",
        "Total_Min=1300\n",
        "Total_Hour=Total_Min/60\n",
        "\n",
        "Total_Time_Representing= 'Hour: ' + str(int(Total_Hour)),\"Min:\" + str(int(Total_Min%60))\n",
        "# Figured out the cause of the error on Monday(: we cannot combine string and integer at the same time), I just applied a casting operator(str) over another casting operator(int)\n",
        "# to convert the integer result to the string.\n",
        "print(Total_Time_Representing)"
      ],
      "execution_count": 0,
      "outputs": [
        {
          "output_type": "stream",
          "text": [
            "('Hour: 21', 'Min:40')\n"
          ],
          "name": "stdout"
        }
      ]
    }
  ]
}