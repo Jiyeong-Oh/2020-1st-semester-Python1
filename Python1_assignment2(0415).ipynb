{
  "nbformat": 4,
  "nbformat_minor": 0,
  "metadata": {
    "colab": {
      "name": "Python1_assignment2(0415)",
      "provenance": [],
      "authorship_tag": "ABX9TyNZKz7a39SGRm+p/oCcF0at",
      "include_colab_link": true
    },
    "kernelspec": {
      "name": "python3",
      "display_name": "Python 3"
    }
  },
  "cells": [
    {
      "cell_type": "markdown",
      "metadata": {
        "id": "view-in-github",
        "colab_type": "text"
      },
      "source": [
        "<a href=\"https://colab.research.google.com/github/Jiyeong-Oh/Python1-assignment1/blob/master/Python1_assignment2(0415).ipynb\" target=\"_parent\"><img src=\"https://colab.research.google.com/assets/colab-badge.svg\" alt=\"Open In Colab\"/></a>"
      ]
    },
    {
      "cell_type": "code",
      "metadata": {
        "id": "7iWaO6ucSjJi",
        "colab_type": "code",
        "colab": {}
      },
      "source": [
        "# Question1. Playing around to practice some built-in functions"
      ],
      "execution_count": 0,
      "outputs": []
    },
    {
      "cell_type": "code",
      "metadata": {
        "id": "v-64Ie3IWKC4",
        "colab_type": "code",
        "colab": {
          "base_uri": "https://localhost:8080/",
          "height": 34
        },
        "outputId": "2b380d88-f385-4c2e-f484-6a1f2cf01074"
      },
      "source": [
        "testing= 'i am just typing anything to practice python'\n",
        "\n",
        "testing.replace('typing anything','applying a function named replace')\n",
        "# fuction replace is used when I want to change part of a string."
      ],
      "execution_count": 16,
      "outputs": [
        {
          "output_type": "execute_result",
          "data": {
            "text/plain": [
              "'i am just applying a function named replace to practice python'"
            ]
          },
          "metadata": {
            "tags": []
          },
          "execution_count": 16
        }
      ]
    },
    {
      "cell_type": "code",
      "metadata": {
        "id": "swdLxMj1Xf75",
        "colab_type": "code",
        "colab": {
          "base_uri": "https://localhost:8080/",
          "height": 204
        },
        "outputId": "4ec87360-eb00-4122-cc73-ec682767c2b8"
      },
      "source": [
        "testing2=1\n",
        "testing2.replace(1,3)\n",
        "#but cannot be applied in integer..(only can apply to a string.)"
      ],
      "execution_count": 19,
      "outputs": [
        {
          "output_type": "error",
          "ename": "AttributeError",
          "evalue": "ignored",
          "traceback": [
            "\u001b[0;31m---------------------------------------------------------------------------\u001b[0m",
            "\u001b[0;31mAttributeError\u001b[0m                            Traceback (most recent call last)",
            "\u001b[0;32m<ipython-input-19-fe98b739bf35>\u001b[0m in \u001b[0;36m<module>\u001b[0;34m()\u001b[0m\n\u001b[1;32m      1\u001b[0m \u001b[0mtesting2\u001b[0m\u001b[0;34m=\u001b[0m\u001b[0;36m1\u001b[0m\u001b[0;34m\u001b[0m\u001b[0;34m\u001b[0m\u001b[0m\n\u001b[0;32m----> 2\u001b[0;31m \u001b[0mtesting2\u001b[0m\u001b[0;34m.\u001b[0m\u001b[0mreplace\u001b[0m\u001b[0;34m(\u001b[0m\u001b[0;36m1\u001b[0m\u001b[0;34m,\u001b[0m\u001b[0;36m3\u001b[0m\u001b[0;34m)\u001b[0m\u001b[0;34m\u001b[0m\u001b[0;34m\u001b[0m\u001b[0m\n\u001b[0m\u001b[1;32m      3\u001b[0m \u001b[0;31m#but cannot be applied in integer..\u001b[0m\u001b[0;34m\u001b[0m\u001b[0;34m\u001b[0m\u001b[0;34m\u001b[0m\u001b[0m\n",
            "\u001b[0;31mAttributeError\u001b[0m: 'int' object has no attribute 'replace'"
          ]
        }
      ]
    },
    {
      "cell_type": "code",
      "metadata": {
        "id": "EpR4rGXHWvxj",
        "colab_type": "code",
        "colab": {
          "base_uri": "https://localhost:8080/",
          "height": 34
        },
        "outputId": "da44a52c-0d35-439f-989a-ed8827a59e80"
      },
      "source": [
        "testing.capitalize()\n",
        "# fuction capitalize is used when I want to capitalize the first letter of a string. "
      ],
      "execution_count": 20,
      "outputs": [
        {
          "output_type": "execute_result",
          "data": {
            "text/plain": [
              "'I am just typing anything to practice python'"
            ]
          },
          "metadata": {
            "tags": []
          },
          "execution_count": 20
        }
      ]
    },
    {
      "cell_type": "code",
      "metadata": {
        "id": "kjL675BGWwD0",
        "colab_type": "code",
        "colab": {
          "base_uri": "https://localhost:8080/",
          "height": 52
        },
        "outputId": "0fbf3115-866e-4909-a3a2-9d5cb0c894fa"
      },
      "source": [
        "print(testing.upper())\n",
        "print(testing.lower())\n",
        "# These fuctions are used for changing every letter of the string to capital letter and non-capital letter respectively."
      ],
      "execution_count": 23,
      "outputs": [
        {
          "output_type": "stream",
          "text": [
            "I AM JUST TYPING ANYTHING TO PRACTICE PYTHON\n",
            "i am just typing anything to practice python\n"
          ],
          "name": "stdout"
        }
      ]
    },
    {
      "cell_type": "code",
      "metadata": {
        "id": "2QVSo00iWwP9",
        "colab_type": "code",
        "colab": {
          "base_uri": "https://localhost:8080/",
          "height": 34
        },
        "outputId": "cc8b6684-898b-469e-c964-a0020cffc703"
      },
      "source": [
        "testing3= 'I hate COVID-19'\n",
        "testing3.casefold()\n",
        "# It seems like the fuction case fold has no difference with the 'lower', but according to the google,,it says that\n",
        "# the fuction changes the string to a 'unicode'(but I don't know what exactly unicode means), changing the string into non-capital letter also."
      ],
      "execution_count": 32,
      "outputs": [
        {
          "output_type": "execute_result",
          "data": {
            "text/plain": [
              "'i hate covid-19'"
            ]
          },
          "metadata": {
            "tags": []
          },
          "execution_count": 32
        }
      ]
    },
    {
      "cell_type": "code",
      "metadata": {
        "id": "lzZA5N4tWwq1",
        "colab_type": "code",
        "colab": {
          "base_uri": "https://localhost:8080/",
          "height": 34
        },
        "outputId": "7a0e8acb-ecad-4f48-cafa-a85091d3dde8"
      },
      "source": [
        "testing3.center(20,'@')\n",
        "# this fuction spits out the string which length is (20)(in this case). It is exactly 20 letter when I count the number of component of the string."
      ],
      "execution_count": 42,
      "outputs": [
        {
          "output_type": "execute_result",
          "data": {
            "text/plain": [
              "'@@I hate COVID-19@@@'"
            ]
          },
          "metadata": {
            "tags": []
          },
          "execution_count": 42
        }
      ]
    },
    {
      "cell_type": "code",
      "metadata": {
        "id": "StC4zopOvenS",
        "colab_type": "code",
        "colab": {
          "base_uri": "https://localhost:8080/",
          "height": 34
        },
        "outputId": "5988dbcd-dfe6-484a-a903-ae742ec98444"
      },
      "source": [
        "testing3.zfill((20))\n",
        "#similarly, the fuction zfill add 0 until the length of the strings reaches 20( in this case)."
      ],
      "execution_count": 86,
      "outputs": [
        {
          "output_type": "execute_result",
          "data": {
            "text/plain": [
              "'00000I hate COVID-19'"
            ]
          },
          "metadata": {
            "tags": []
          },
          "execution_count": 86
        }
      ]
    },
    {
      "cell_type": "code",
      "metadata": {
        "id": "0SFlZc5jWw8W",
        "colab_type": "code",
        "colab": {
          "base_uri": "https://localhost:8080/",
          "height": 52
        },
        "outputId": "67a400b7-4239-4347-de7d-610974a06970"
      },
      "source": [
        "print(testing)\n",
        "testing.count('i')\n",
        "# this counts the number of letter used in a string(in this case, the result represents the number of 'i'.)"
      ],
      "execution_count": 45,
      "outputs": [
        {
          "output_type": "stream",
          "text": [
            "i am just typing anything to practice python\n"
          ],
          "name": "stdout"
        },
        {
          "output_type": "execute_result",
          "data": {
            "text/plain": [
              "4"
            ]
          },
          "metadata": {
            "tags": []
          },
          "execution_count": 45
        }
      ]
    },
    {
      "cell_type": "code",
      "metadata": {
        "id": "Pk6Cb8DHWw68",
        "colab_type": "code",
        "colab": {
          "base_uri": "https://localhost:8080/",
          "height": 52
        },
        "outputId": "950e684f-123d-4f39-cc9a-34b822997444"
      },
      "source": [
        "print(testing.endswith('n'))\n",
        "print(testing.endswith('m'))\n",
        "# this is useful to figure out whether a string ends with particular item."
      ],
      "execution_count": 48,
      "outputs": [
        {
          "output_type": "stream",
          "text": [
            "True\n",
            "False\n"
          ],
          "name": "stdout"
        }
      ]
    },
    {
      "cell_type": "code",
      "metadata": {
        "id": "LBQ2wpF9Ww5H",
        "colab_type": "code",
        "colab": {
          "base_uri": "https://localhost:8080/",
          "height": 70
        },
        "outputId": "f30690e6-bbfb-4fe8-af61-0e0f9cc188f2"
      },
      "source": [
        "print('te \\t st4'.expandtabs(2))\n",
        "print('te \\t st4'.expandtabs(5))\n",
        "print('te \\t st4'.expandtabs(19))\n",
        "# literalliy, this function expands the size of the tab(followed by the number inside of ())"
      ],
      "execution_count": 52,
      "outputs": [
        {
          "output_type": "stream",
          "text": [
            "te   st4\n",
            "te    st4\n",
            "te                  st4\n"
          ],
          "name": "stdout"
        }
      ]
    },
    {
      "cell_type": "code",
      "metadata": {
        "id": "szJ_xPJHWw0i",
        "colab_type": "code",
        "colab": {
          "base_uri": "https://localhost:8080/",
          "height": 87
        },
        "outputId": "bfa32c47-bb73-494e-ac0a-a669615ffd5a"
      },
      "source": [
        "print(testing)\n",
        "print(testing.find('i'))\n",
        "print(testing.find('c'))\n",
        "print(testing.find('z'))\n",
        "#this spits out the location of certain item(the very first location it there are several items). If there is no item that I am looking for(in the string), it spits out -1."
      ],
      "execution_count": 54,
      "outputs": [
        {
          "output_type": "stream",
          "text": [
            "i am just typing anything to practice python\n",
            "0\n",
            "32\n",
            "-1\n"
          ],
          "name": "stdout"
        }
      ]
    },
    {
      "cell_type": "code",
      "metadata": {
        "id": "mbtya7qrr9hK",
        "colab_type": "code",
        "colab": {
          "base_uri": "https://localhost:8080/",
          "height": 34
        },
        "outputId": "072c10ec-e79b-4975-e9f8-7656b6a70b15"
      },
      "source": [
        "print(testing.rfind('i'))\n",
        "#similarly, rfind finds certain item from right side(r means 'right', I guess.)"
      ],
      "execution_count": 83,
      "outputs": [
        {
          "output_type": "stream",
          "text": [
            "34\n"
          ],
          "name": "stdout"
        }
      ]
    },
    {
      "cell_type": "code",
      "metadata": {
        "id": "FR6m9srxWwp6",
        "colab_type": "code",
        "colab": {
          "base_uri": "https://localhost:8080/",
          "height": 52
        },
        "outputId": "4d22f1b3-b14f-4f6f-a3a3-16f6b05433ef"
      },
      "source": [
        "print('My name is {0}, and I really want to go {1}'.format('Jiyeong','school'))\n",
        "#the fuction 'format' converts {n} into certain string.\n",
        "print('My name is {0}, and I really want to go {1}'.format(1111111,'school'))\n",
        "# and also can convert into integer."
      ],
      "execution_count": 58,
      "outputs": [
        {
          "output_type": "stream",
          "text": [
            "My name is Jiyeong, and I really want to go school\n",
            "My name is 1111111, and I really want to go school\n"
          ],
          "name": "stdout"
        }
      ]
    },
    {
      "cell_type": "code",
      "metadata": {
        "id": "pgncwuv_WwoF",
        "colab_type": "code",
        "colab": {
          "base_uri": "https://localhost:8080/",
          "height": 70
        },
        "outputId": "a495900a-345d-4a75-c440-99f07d6f0c39"
      },
      "source": [
        "print(testing.index('i'))\n",
        "print(testing.index('n'))\n",
        "# this function looks similar to the function 'find'\n",
        "print(testing.rindex('i'))\n",
        "# this is the exactly same function, but it finds a component starting from right side."
      ],
      "execution_count": 84,
      "outputs": [
        {
          "output_type": "stream",
          "text": [
            "0\n",
            "14\n",
            "34\n"
          ],
          "name": "stdout"
        }
      ]
    },
    {
      "cell_type": "code",
      "metadata": {
        "id": "Tzd2l4ztWwnG",
        "colab_type": "code",
        "colab": {
          "base_uri": "https://localhost:8080/",
          "height": 169
        },
        "outputId": "5bd3606d-a2ac-41cf-f160-2993f0b7b94f"
      },
      "source": [
        "print(testing.index('z'))\n",
        "# the difference is that when there is no item that I am looking for, it spits out the error message."
      ],
      "execution_count": 61,
      "outputs": [
        {
          "output_type": "error",
          "ename": "ValueError",
          "evalue": "ignored",
          "traceback": [
            "\u001b[0;31m---------------------------------------------------------------------------\u001b[0m",
            "\u001b[0;31mValueError\u001b[0m                                Traceback (most recent call last)",
            "\u001b[0;32m<ipython-input-61-b33ad79a8042>\u001b[0m in \u001b[0;36m<module>\u001b[0;34m()\u001b[0m\n\u001b[0;32m----> 1\u001b[0;31m \u001b[0mprint\u001b[0m\u001b[0;34m(\u001b[0m\u001b[0mtesting\u001b[0m\u001b[0;34m.\u001b[0m\u001b[0mindex\u001b[0m\u001b[0;34m(\u001b[0m\u001b[0;34m'z'\u001b[0m\u001b[0;34m)\u001b[0m\u001b[0;34m)\u001b[0m\u001b[0;34m\u001b[0m\u001b[0;34m\u001b[0m\u001b[0m\n\u001b[0m",
            "\u001b[0;31mValueError\u001b[0m: substring not found"
          ]
        }
      ]
    },
    {
      "cell_type": "code",
      "metadata": {
        "id": "Ocs40K04Wwls",
        "colab_type": "code",
        "colab": {
          "base_uri": "https://localhost:8080/",
          "height": 87
        },
        "outputId": "44ac21f3-e41a-4667-c5c6-de61e6faf9e1"
      },
      "source": [
        "print(testing3)\n",
        "print(testing3.isalnum())\n",
        "print('123541'.isalnum())\n",
        "print('alphabets123'.isalnum())\n",
        "#this is used to figure out whether a string is made of only number and alphabet(letters) or not."
      ],
      "execution_count": 73,
      "outputs": [
        {
          "output_type": "stream",
          "text": [
            "I hate COVID-19\n",
            "False\n",
            "True\n",
            "True\n"
          ],
          "name": "stdout"
        }
      ]
    },
    {
      "cell_type": "code",
      "metadata": {
        "id": "laIG1o0pWwkk",
        "colab_type": "code",
        "colab": {
          "base_uri": "https://localhost:8080/",
          "height": 52
        },
        "outputId": "cb9e07b2-02a9-4ad7-a01c-11e751649c5f"
      },
      "source": [
        "print('alphabets123'.isalpha())\n",
        "print('alphabets'.isalpha())\n",
        "# looks similar to function'isalnum',but this fuction is for only alphabets!"
      ],
      "execution_count": 75,
      "outputs": [
        {
          "output_type": "stream",
          "text": [
            "False\n",
            "True\n"
          ],
          "name": "stdout"
        }
      ]
    },
    {
      "cell_type": "code",
      "metadata": {
        "id": "Y7grA4kKWwiq",
        "colab_type": "code",
        "colab": {
          "base_uri": "https://localhost:8080/",
          "height": 105
        },
        "outputId": "e99a2832-751a-4050-863f-543b4a8ad4b3"
      },
      "source": [
        "print(testing)\n",
        "print(testing.islower())\n",
        "print(testing.isupper())\n",
        "print(testing3)\n",
        "print(testing3.islower())\n",
        "# This is used to know whether every component of a string is made of non-capital/capital letter.\n",
        "# Plus, I figured out that a function starts with 'is' is used to figure out whether it is something or not.(e.g. \"IS\" it composed with capital letter or not?) "
      ],
      "execution_count": 78,
      "outputs": [
        {
          "output_type": "stream",
          "text": [
            "i am just typing anything to practice python\n",
            "True\n",
            "False\n",
            "I hate COVID-19\n",
            "False\n"
          ],
          "name": "stdout"
        }
      ]
    },
    {
      "cell_type": "code",
      "metadata": {
        "id": "2Gt_LQotWwg_",
        "colab_type": "code",
        "colab": {
          "base_uri": "https://localhost:8080/",
          "height": 70
        },
        "outputId": "43bb90b4-c143-4fcb-8f19-ff30be90fd81"
      },
      "source": [
        "print(testing.lstrip())\n",
        "print(testing.lstrip('i'))\n",
        "print(testing.lstrip('am'))\n",
        "# 'lstrip' is used to delete item which locates the very left side."
      ],
      "execution_count": 80,
      "outputs": [
        {
          "output_type": "stream",
          "text": [
            "i am just typing anything to practice python\n",
            " am just typing anything to practice python\n",
            "i am just typing anything to practice python\n"
          ],
          "name": "stdout"
        }
      ]
    },
    {
      "cell_type": "code",
      "metadata": {
        "id": "JUEFUwXApCJk",
        "colab_type": "code",
        "colab": {
          "base_uri": "https://localhost:8080/",
          "height": 34
        },
        "outputId": "c58e74ef-0701-423d-adee-8016379993c1"
      },
      "source": [
        "#(I am just wondering whether there is a function which can delete from the right side, so I just tried typing rstrip.)\n",
        "print(testing.rstrip('to practice python'))\n",
        "#it works."
      ],
      "execution_count": 82,
      "outputs": [
        {
          "output_type": "stream",
          "text": [
            "i am just typing anything\n"
          ],
          "name": "stdout"
        }
      ]
    },
    {
      "cell_type": "code",
      "metadata": {
        "id": "SaF1MfuOpCFi",
        "colab_type": "code",
        "colab": {
          "base_uri": "https://localhost:8080/",
          "height": 34
        },
        "outputId": "209a9128-d59f-460a-fd93-e2a19b70ad52"
      },
      "source": [
        "testing3.swapcase()\n",
        "#This switches capital letter to non-capital, and vice versa."
      ],
      "execution_count": 85,
      "outputs": [
        {
          "output_type": "execute_result",
          "data": {
            "text/plain": [
              "'i HATE covid-19'"
            ]
          },
          "metadata": {
            "tags": []
          },
          "execution_count": 85
        }
      ]
    },
    {
      "cell_type": "code",
      "metadata": {
        "id": "WI-a9W1wVGMj",
        "colab_type": "code",
        "colab": {}
      },
      "source": [
        "\n",
        "\n",
        "\n",
        "\n",
        "# Question2. Apply what you have learnt from String section, do repeat the many operations you played in the section. (e.g., Stride, Slicing... functions)"
      ],
      "execution_count": 0,
      "outputs": []
    },
    {
      "cell_type": "code",
      "metadata": {
        "id": "lXXr_5KdpCDq",
        "colab_type": "code",
        "colab": {
          "base_uri": "https://localhost:8080/",
          "height": 52
        },
        "outputId": "62abab2c-04e1-479e-96f9-9bac81ec3082"
      },
      "source": [
        "print(testing)\n",
        "print(testing[-1])"
      ],
      "execution_count": 88,
      "outputs": [
        {
          "output_type": "stream",
          "text": [
            "i am just typing anything to practice python\n",
            "n\n"
          ],
          "name": "stdout"
        }
      ]
    },
    {
      "cell_type": "code",
      "metadata": {
        "id": "-QF2J2_bpCBA",
        "colab_type": "code",
        "colab": {
          "base_uri": "https://localhost:8080/",
          "height": 34
        },
        "outputId": "6126c655-88f4-4570-c6d8-328bc0fde746"
      },
      "source": [
        "len(testing)"
      ],
      "execution_count": 89,
      "outputs": [
        {
          "output_type": "execute_result",
          "data": {
            "text/plain": [
              "44"
            ]
          },
          "metadata": {
            "tags": []
          },
          "execution_count": 89
        }
      ]
    },
    {
      "cell_type": "code",
      "metadata": {
        "id": "Huji1wo1pB-b",
        "colab_type": "code",
        "colab": {
          "base_uri": "https://localhost:8080/",
          "height": 140
        },
        "outputId": "288980b3-4cd3-4b30-b63c-736b11ac7a6c"
      },
      "source": [
        "#slicing\n",
        "print(testing[:])\n",
        "print(testing[0:1])\n",
        "print(testing[0:4])\n",
        "print(testing[0:10])\n",
        "print(testing[0:24])\n",
        "print(testing[0:30])\n",
        "print(testing[0:38])"
      ],
      "execution_count": 93,
      "outputs": [
        {
          "output_type": "stream",
          "text": [
            "i am just typing anything to practice python\n",
            "i\n",
            "i am\n",
            "i am just \n",
            "i am just typing anythin\n",
            "i am just typing anything to p\n",
            "i am just typing anything to practice \n"
          ],
          "name": "stdout"
        }
      ]
    },
    {
      "cell_type": "code",
      "metadata": {
        "id": "clrpN3_U4F-f",
        "colab_type": "code",
        "colab": {
          "base_uri": "https://localhost:8080/",
          "height": 70
        },
        "outputId": "af8f832c-0f4c-4abb-bc7b-7e3f748feca0"
      },
      "source": [
        "slicing_test=testing[0:4]\n",
        "print(slicing_test, 'playing around')\n",
        "print(testing[0:4])\n",
        "print(testing)\n",
        "# Even though I applied some slicing, the original data 'testing' does not change."
      ],
      "execution_count": 101,
      "outputs": [
        {
          "output_type": "stream",
          "text": [
            "i am playing around\n",
            "i am\n",
            "i am just typing anything to practice python\n"
          ],
          "name": "stdout"
        }
      ]
    },
    {
      "cell_type": "code",
      "metadata": {
        "id": "pKb-cNz2pB6Q",
        "colab_type": "code",
        "colab": {
          "base_uri": "https://localhost:8080/",
          "height": 87
        },
        "outputId": "b3047c69-b910-4605-c48e-ae5f3cda5cf4"
      },
      "source": [
        "# stride\n",
        "print(testing[::2])\n",
        "print(testing[::4])\n",
        "print(testing[::10])\n",
        "print(testing[0:8:2])"
      ],
      "execution_count": 95,
      "outputs": [
        {
          "output_type": "stream",
          "text": [
            "ia uttpn ntigt rciepto\n",
            "i tp tg cet\n",
            "ittrt\n",
            "ia u\n"
          ],
          "name": "stdout"
        }
      ]
    },
    {
      "cell_type": "code",
      "metadata": {
        "id": "sT9NV4dEWwe5",
        "colab_type": "code",
        "colab": {
          "base_uri": "https://localhost:8080/",
          "height": 34
        },
        "outputId": "25214858-b43f-4ec2-bd76-2a70ffe3db57"
      },
      "source": [
        "what_we_pretend='We all pretend to be the heros on the goodside,'\n",
        "doubt=' but what if we are the villains on the other?'\n",
        "lyrics=what_we_pretend + doubt\n",
        "print(lyrics)"
      ],
      "execution_count": 109,
      "outputs": [
        {
          "output_type": "stream",
          "text": [
            "We all pretend to be the heros on the goodside, but what if we are the villains on the other?\n"
          ],
          "name": "stdout"
        }
      ]
    },
    {
      "cell_type": "code",
      "metadata": {
        "id": "9rwIrI7UWwYs",
        "colab_type": "code",
        "colab": {
          "base_uri": "https://localhost:8080/",
          "height": 52
        },
        "outputId": "277aa763-c624-4b27-ce75-4d8da95e44e1"
      },
      "source": [
        "print(lyrics)\n",
        "lyrics.find(',')"
      ],
      "execution_count": 115,
      "outputs": [
        {
          "output_type": "stream",
          "text": [
            "We all pretend to be the heros on the goodside, but what if we are the villains on the other?\n"
          ],
          "name": "stdout"
        },
        {
          "output_type": "execute_result",
          "data": {
            "text/plain": [
              "46"
            ]
          },
          "metadata": {
            "tags": []
          },
          "execution_count": 115
        }
      ]
    },
    {
      "cell_type": "code",
      "metadata": {
        "id": "eqNPeijS7JDr",
        "colab_type": "code",
        "colab": {
          "base_uri": "https://localhost:8080/",
          "height": 34
        },
        "outputId": "ca93ca88-7583-47ed-a1a2-e9f3bee33d9d"
      },
      "source": [
        "print(3*lyrics[:47])"
      ],
      "execution_count": 117,
      "outputs": [
        {
          "output_type": "stream",
          "text": [
            "We all pretend to be the heros on the goodside,We all pretend to be the heros on the goodside,We all pretend to be the heros on the goodside,\n"
          ],
          "name": "stdout"
        }
      ]
    },
    {
      "cell_type": "code",
      "metadata": {
        "id": "sRs9bwdI7I_p",
        "colab_type": "code",
        "colab": {
          "base_uri": "https://localhost:8080/",
          "height": 54
        },
        "outputId": "7b1799af-3a8b-45e1-bf53-7e803ed12012"
      },
      "source": [
        "print(sorted(doubt))\n",
        "#this rearranges a string, starting from symbols and alphabet."
      ],
      "execution_count": 120,
      "outputs": [
        {
          "output_type": "stream",
          "text": [
            "[' ', ' ', ' ', ' ', ' ', ' ', ' ', ' ', ' ', ' ', '?', 'a', 'a', 'a', 'b', 'e', 'e', 'e', 'e', 'e', 'f', 'h', 'h', 'h', 'h', 'i', 'i', 'i', 'l', 'l', 'n', 'n', 'o', 'o', 'r', 'r', 's', 't', 't', 't', 't', 't', 'u', 'v', 'w', 'w']\n"
          ],
          "name": "stdout"
        }
      ]
    },
    {
      "cell_type": "code",
      "metadata": {
        "id": "pbztNU6uU5_5",
        "colab_type": "code",
        "colab": {
          "base_uri": "https://localhost:8080/",
          "height": 34
        },
        "outputId": "35bad120-efde-41d4-e737-86c5bb28b8bb"
      },
      "source": [
        "#Your Assignment #3 \n",
        "#Declare a Genre tuple as follows:\n",
        "\"0. Pop, 1. Rock, 2. Soul, 3. Hard Rock, 4. Soft rock, 5. R&B, 6. Progressive rock, 7. Disco\"\n",
        "#Play around to access each items to answer the quires such as \"What is the number of R&B\"\n",
        "# tuple_Genre.find(\"R&B\") --> of course I know that you haven't learnt how to make a function in Python, play your own trick to find \n",
        "# where such letter or strings will be displayed. \n",
        "\n",
        "# if you have a such question \"Is there any R&B in the tuple_Genre?\" what will you do? tuple_Genre[0],tuple_Genre[1], tuple_Genre[2], tuple_Genre[3], tuple_Genre[4], tuple_Genre[5], tuple_Genre[6], tuple_Genre[7]\n",
        "# end then the computer will search at each item to find if there is R&B, maybe you will trick using '&' symbol '&' maybe you can use this trick to find if the tupleGenre has such 'And' Symbol.. \n",
        "#\"[0][pop], [1][R&B], [2][Disco]\" <--Pseudo Code for a two-dimensional tuple...--> n-dimensional tuples (\"Tensor\" = \"n-dimensional vector\", \"n*m matrix\", Tensorflow - name of Google AI package) "
      ],
      "execution_count": 2,
      "outputs": [
        {
          "output_type": "execute_result",
          "data": {
            "text/plain": [
              "'0. Pop, 1. Rock, 2. Soul, 3. Hard Rock, 4. Soft rock, 5. R&B, 6. Progressive rock, 7. Disco'"
            ]
          },
          "metadata": {
            "tags": []
          },
          "execution_count": 2
        }
      ]
    },
    {
      "cell_type": "code",
      "metadata": {
        "id": "cgGLue0oU94i",
        "colab_type": "code",
        "colab": {
          "base_uri": "https://localhost:8080/",
          "height": 34
        },
        "outputId": "b5d6b071-fc01-45eb-c84e-ee5ecde9ac96"
      },
      "source": [
        "tuple_genre=\"0. Pop, 1. Rock, 2. Soul, 3. Hard Rock, 4. Soft rock, 5. R&B, 6. Progressive rock, 7. Disco\"\n",
        "\n",
        "# first try: just accessing with no trick(the worst try)\n",
        "tuple_genre.find('R&B')"
      ],
      "execution_count": 121,
      "outputs": [
        {
          "output_type": "execute_result",
          "data": {
            "text/plain": [
              "57"
            ]
          },
          "metadata": {
            "tags": []
          },
          "execution_count": 121
        }
      ]
    },
    {
      "cell_type": "code",
      "metadata": {
        "id": "b2duLJsu9mKD",
        "colab_type": "code",
        "colab": {
          "base_uri": "https://localhost:8080/",
          "height": 34
        },
        "outputId": "c02c5680-0e8f-4124-bba9-9d5fb4f0da51"
      },
      "source": [
        "tuple_genre[54:60]\n",
        "# this solution is terrible."
      ],
      "execution_count": 122,
      "outputs": [
        {
          "output_type": "execute_result",
          "data": {
            "text/plain": [
              "'5. R&B'"
            ]
          },
          "metadata": {
            "tags": []
          },
          "execution_count": 122
        }
      ]
    },
    {
      "cell_type": "code",
      "metadata": {
        "id": "Zl9iIqTDBtNG",
        "colab_type": "code",
        "colab": {
          "base_uri": "https://localhost:8080/",
          "height": 34
        },
        "outputId": "d293a68b-94e8-4f6c-e5de-35891b458022"
      },
      "source": [
        "# Second try: separating a string to several would be much better.\n",
        "tuple_genre_t2=(\"Pop\",\"Rock\", \"Soul\", \"Hard Rock\", \"Soft rock\", \"R&B\", \"Progressive rock\", \"Disco\")\n",
        "tuple_genre_t2.index('R&B')\n",
        "#but this has no use if the number of an item changes."
      ],
      "execution_count": 140,
      "outputs": [
        {
          "output_type": "execute_result",
          "data": {
            "text/plain": [
              "5"
            ]
          },
          "metadata": {
            "tags": []
          },
          "execution_count": 140
        }
      ]
    },
    {
      "cell_type": "code",
      "metadata": {
        "id": "SmqyhKqxMpX5",
        "colab_type": "code",
        "colab": {
          "base_uri": "https://localhost:8080/",
          "height": 158
        },
        "outputId": "3f2eccb8-5775-46cd-d549-044ef62ae954"
      },
      "source": [
        "#Third try: using nested tuple\n",
        "tuple_genre_t3=((0,\"Pop\"),(1,\"Rock\"), (2,\"Soul\"), (3,\"Hard Rock\"), (4,\"Soft rock\"), (5,\"R&B\"), (6,\"Progressive rock\"), (7,\"Disco\"))\n",
        "\n",
        "print(tuple_genre_t3[0])\n",
        "print(tuple_genre_t3[1])\n",
        "print(tuple_genre_t3[2])\n",
        "print(tuple_genre_t3[3])\n",
        "print(tuple_genre_t3[4])\n",
        "print(tuple_genre_t3[5])\n",
        "print(tuple_genre_t3[6])\n",
        "print(tuple_genre_t3[7])\n",
        "# but this takes too much time."
      ],
      "execution_count": 187,
      "outputs": [
        {
          "output_type": "stream",
          "text": [
            "(0, 'Pop')\n",
            "(1, 'Rock')\n",
            "(2, 'Soul')\n",
            "(3, 'Hard Rock')\n",
            "(4, 'Soft rock')\n",
            "(5, 'R&B')\n",
            "(6, 'Progressive rock')\n",
            "(7, 'Disco')\n"
          ],
          "name": "stdout"
        }
      ]
    },
    {
      "cell_type": "code",
      "metadata": {
        "id": "-6zBfXoeFH-N",
        "colab_type": "code",
        "colab": {
          "base_uri": "https://localhost:8080/",
          "height": 122
        },
        "outputId": "95263066-9d8b-476e-e1be-95c06bf34445"
      },
      "source": [
        "# Fourth try,,\n",
        "import numpy as np\n",
        "number = np.array([0,1,2,3,4,5,6,7])\n",
        "genre= np.array([\"Pop\",\"Rock\", \"Soul\", \"Hard Rock\", \"Soft rock\", \"R&B\", \"Progressive rock\", \"Disco\"])\n",
        "print(number)\n",
        "print(number.shape)\n",
        "Genre=np.vstack((number,genre))\n",
        "print(Genre)\n",
        "np.where('R&B'==Genre)\n",
        "# found out that 'R&B'is in first row,and sixth column."
      ],
      "execution_count": 174,
      "outputs": [
        {
          "output_type": "stream",
          "text": [
            "[0 1 2 3 4 5 6 7]\n",
            "(8,)\n",
            "[['0' '1' '2' '3' '4' '5' '6' '7']\n",
            " ['Pop' 'Rock' 'Soul' 'Hard Rock' 'Soft rock' 'R&B' 'Progressive rock'\n",
            "  'Disco']]\n"
          ],
          "name": "stdout"
        },
        {
          "output_type": "execute_result",
          "data": {
            "text/plain": [
              "(array([1]), array([5]))"
            ]
          },
          "metadata": {
            "tags": []
          },
          "execution_count": 174
        }
      ]
    },
    {
      "cell_type": "code",
      "metadata": {
        "id": "QiQ0NT-XMBkq",
        "colab_type": "code",
        "colab": {
          "base_uri": "https://localhost:8080/",
          "height": 34
        },
        "outputId": "13e9393e-bbcd-4911-bd54-e7ab56bba836"
      },
      "source": [
        "# Therefore, to print out the number of R&B,(we know that R&B and its number are in same column)\n",
        "print(Genre[0][5])\n",
        "#this is the number of R&B"
      ],
      "execution_count": 190,
      "outputs": [
        {
          "output_type": "stream",
          "text": [
            "5\n"
          ],
          "name": "stdout"
        }
      ]
    }
  ]
}