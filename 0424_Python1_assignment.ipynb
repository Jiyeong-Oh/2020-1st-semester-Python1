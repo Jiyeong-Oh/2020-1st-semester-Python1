{
  "nbformat": 4,
  "nbformat_minor": 0,
  "metadata": {
    "colab": {
      "name": "0424_Python1_assignment.ipynb",
      "provenance": [],
      "authorship_tag": "ABX9TyM4z1nS/oCHdjNGWUzttjkH",
      "include_colab_link": true
    },
    "kernelspec": {
      "name": "python3",
      "display_name": "Python 3"
    }
  },
  "cells": [
    {
      "cell_type": "markdown",
      "metadata": {
        "id": "view-in-github",
        "colab_type": "text"
      },
      "source": [
        "<a href=\"https://colab.research.google.com/github/Jiyeong-Oh/Python1-assignment1/blob/master/0424_Python1_assignment.ipynb\" target=\"_parent\"><img src=\"https://colab.research.google.com/assets/colab-badge.svg\" alt=\"Open In Colab\"/></a>"
      ]
    },
    {
      "cell_type": "markdown",
      "metadata": {
        "id": "HM4XP0hybL3A",
        "colab_type": "text"
      },
      "source": [
        "#Assignment1\n",
        "-modify the Rectangle class in order to change(width, height, and color): you need to declare three methods to do seperately."
      ]
    },
    {
      "cell_type": "code",
      "metadata": {
        "id": "wVlfny98bOzG",
        "colab_type": "code",
        "colab": {}
      },
      "source": [
        "import matplotlib.pyplot as plt\n",
        "%matplotlib inline\n",
        "\n",
        "class Rectangle(object):\n",
        "\n",
        "  def __init__(self, width,height,color):\n",
        "    self.width=width\n",
        "    self.height=height\n",
        "    self.color=color\n",
        "\n",
        "  def add_width(self, w):\n",
        "    self.width = self.width + w\n",
        "    return(self.width)\n",
        "\n",
        "  def add_height(self, h):\n",
        "    self.height = self.height + h\n",
        "    return(self.height)\n",
        "\n",
        "  def change_color(self,c):\n",
        "    self.color=c\n",
        "    return(self.color)\n",
        "\n",
        "  def drawRectangle(self):\n",
        "    plt.gca().add_patch(plt.Rectangle((0,0),self.width, self.height, fc=self.color))\n",
        "    plt.axis('scaled')\n",
        "    plt.show()"
      ],
      "execution_count": 0,
      "outputs": []
    },
    {
      "cell_type": "code",
      "metadata": {
        "id": "835WGxvRbRTf",
        "colab_type": "code",
        "outputId": "4675f177-5186-40e6-8d76-d7a1d8e0b2fb",
        "colab": {
          "base_uri": "https://localhost:8080/",
          "height": 265
        }
      },
      "source": [
        "SkinnyBlueRectangle=Rectangle(2,10,'blue')\n",
        "SkinnyBlueRectangle.drawRectangle()"
      ],
      "execution_count": 2,
      "outputs": [
        {
          "output_type": "display_data",
          "data": {
            "image/png": "[encoded data removed]",
            "text/plain": [
              "<Figure size 432x288 with 1 Axes>"
            ]
          },
          "metadata": {
            "tags": [],
            "needs_background": "light"
          }
        }
      ]
    },
    {
      "cell_type": "code",
      "metadata": {
        "id": "iKOwss48bTL4",
        "colab_type": "code",
        "outputId": "5b1dfaed-baf4-4b24-eb65-762361923278",
        "colab": {
          "base_uri": "https://localhost:8080/",
          "height": 83
        }
      },
      "source": [
        "#changing the width\n",
        "SkinnyBlueRectangle.add_width(100)\n",
        "SkinnyBlueRectangle.drawRectangle()"
      ],
      "execution_count": 3,
      "outputs": [
        {
          "output_type": "display_data",
          "data": {
            "image/png": "[encoded data removed]",
            "text/plain": [
              "<Figure size 432x288 with 1 Axes>"
            ]
          },
          "metadata": {
            "tags": [],
            "needs_background": "light"
          }
        }
      ]
    },
    {
      "cell_type": "code",
      "metadata": {
        "id": "H_t51tuKbWB0",
        "colab_type": "code",
        "outputId": "3b7d8d05-a050-4787-d9c6-7188f0365fc1",
        "colab": {
          "base_uri": "https://localhost:8080/",
          "height": 70
        }
      },
      "source": [
        "print(SkinnyBlueRectangle.width)\n",
        "print(SkinnyBlueRectangle.height)\n",
        "print(SkinnyBlueRectangle.color)"
      ],
      "execution_count": 4,
      "outputs": [
        {
          "output_type": "stream",
          "text": [
            "102\n",
            "10\n",
            "blue\n"
          ],
          "name": "stdout"
        }
      ]
    },
    {
      "cell_type": "code",
      "metadata": {
        "id": "0Hd-WMaDbXXo",
        "colab_type": "code",
        "outputId": "f98b5470-80fc-4ae5-c46e-9d91bb372bce",
        "colab": {
          "base_uri": "https://localhost:8080/",
          "height": 265
        }
      },
      "source": [
        "#changing the height\n",
        "SkinnyBlueRectangle.add_height(100)\n",
        "SkinnyBlueRectangle.drawRectangle()\n",
        "\n",
        "#the skinny blue rectangle is not skinny anymore."
      ],
      "execution_count": 5,
      "outputs": [
        {
          "output_type": "display_data",
          "data": {
            "image/png": "[encoded data removed]",
            "text/plain": [
              "<Figure size 432x288 with 1 Axes>"
            ]
          },
          "metadata": {
            "tags": [],
            "needs_background": "light"
          }
        }
      ]
    },
    {
      "cell_type": "code",
      "metadata": {
        "id": "KLYZYYvXbY1H",
        "colab_type": "code",
        "outputId": "3cc92cb4-57b6-44e4-b813-48f808620ebd",
        "colab": {
          "base_uri": "https://localhost:8080/",
          "height": 70
        }
      },
      "source": [
        "print(SkinnyBlueRectangle.width)\n",
        "print(SkinnyBlueRectangle.height)\n",
        "print(SkinnyBlueRectangle.color)\n",
        "# We can check that the height has changed."
      ],
      "execution_count": 6,
      "outputs": [
        {
          "output_type": "stream",
          "text": [
            "102\n",
            "110\n",
            "blue\n"
          ],
          "name": "stdout"
        }
      ]
    },
    {
      "cell_type": "code",
      "metadata": {
        "id": "IOGEYccObdZq",
        "colab_type": "code",
        "outputId": "3101296d-87bf-415c-a7e6-b8452e10cf28",
        "colab": {
          "base_uri": "https://localhost:8080/",
          "height": 265
        }
      },
      "source": [
        "SkinnyBlueRectangle.change_color('red')\n",
        "SkinnyBlueRectangle.drawRectangle()\n",
        "\n",
        "# the rectangle is not blue anymore."
      ],
      "execution_count": 7,
      "outputs": [
        {
          "output_type": "display_data",
          "data": {
            "image/png": "[encoded data removed]",
            "text/plain": [
              "<Figure size 432x288 with 1 Axes>"
            ]
          },
          "metadata": {
            "tags": [],
            "needs_background": "light"
          }
        }
      ]
    },
    {
      "cell_type": "code",
      "metadata": {
        "id": "Zz5g7hV0bfHN",
        "colab_type": "code",
        "outputId": "eeef90c2-109b-4301-acc2-e64979e07eee",
        "colab": {
          "base_uri": "https://localhost:8080/",
          "height": 70
        }
      },
      "source": [
        "print(SkinnyBlueRectangle.width)\n",
        "print(SkinnyBlueRectangle.height)\n",
        "print(SkinnyBlueRectangle.color)"
      ],
      "execution_count": 8,
      "outputs": [
        {
          "output_type": "stream",
          "text": [
            "102\n",
            "110\n",
            "red\n"
          ],
          "name": "stdout"
        }
      ]
    },
    {
      "cell_type": "markdown",
      "metadata": {
        "id": "4c8bJxi4fzlI",
        "colab_type": "text"
      },
      "source": [
        "#Assignment #2\n",
        "- Create a txt file with radius and colour information (at least 3 lines)\n",
        "- Create a txt file with height, width, and colour information (at least 3 lines)\n",
        "- Using your files (two txt files), you need to create objects (circles, and rectangles) "
      ]
    },
    {
      "cell_type": "code",
      "metadata": {
        "id": "CHRxyPSK3Qam",
        "colab_type": "code",
        "colab": {
          "base_uri": "https://localhost:8080/",
          "height": 34
        },
        "outputId": "a7eb56e3-a57f-4434-defd-53c125d66735"
      },
      "source": [
        "from google.colab import drive\n",
        "drive.mount('/content/gdrive')"
      ],
      "execution_count": 9,
      "outputs": [
        {
          "output_type": "stream",
          "text": [
            "Drive already mounted at /content/gdrive; to attempt to forcibly remount, call drive.mount(\"/content/gdrive\", force_remount=True).\n"
          ],
          "name": "stdout"
        }
      ]
    },
    {
      "cell_type": "code",
      "metadata": {
        "id": "cHDSpeMt4SD-",
        "colab_type": "code",
        "colab": {}
      },
      "source": [
        "file1=\"/content/gdrive/My Drive/file1.txt\""
      ],
      "execution_count": 0,
      "outputs": []
    },
    {
      "cell_type": "code",
      "metadata": {
        "id": "GAH5HujU4deo",
        "colab_type": "code",
        "colab": {}
      },
      "source": [
        "with open(file1,'w') as write_file1:\n",
        "  write_file1.write('smally_green_circle = radius: 0.01, color: green\\n')\n",
        "  write_file1.write('magenta_circle = radius: 8, color: magenta\\n')\n",
        "  write_file1.write('big_purple_circle = radius: 100, color: purple\\n')"
      ],
      "execution_count": 0,
      "outputs": []
    },
    {
      "cell_type": "code",
      "metadata": {
        "id": "S1aj3a5R8aQK",
        "colab_type": "code",
        "colab": {
          "base_uri": "https://localhost:8080/",
          "height": 87
        },
        "outputId": "6efcba49-239a-48b3-aee2-103a061ca47b"
      },
      "source": [
        "with open('/content/gdrive/My Drive/file1.txt', 'r') as read_file1:\n",
        "  read_circle=read_file1.read()\n",
        "  print(read_circle)"
      ],
      "execution_count": 12,
      "outputs": [
        {
          "output_type": "stream",
          "text": [
            "smally_green_circle = radius: 0.01, color: green\n",
            "magenta_circle = radius: 8, color: magenta\n",
            "big_purple_circle = radius: 100, color: purple\n",
            "\n"
          ],
          "name": "stdout"
        }
      ]
    },
    {
      "cell_type": "code",
      "metadata": {
        "id": "R39CUqp1_Dvs",
        "colab_type": "code",
        "colab": {}
      },
      "source": [
        "#based on the txt file above,\n",
        "#I am going to make a CLASS which includes circle objects(smally_green_circle, magenta_circle, and big_purple_circle)"
      ],
      "execution_count": 0,
      "outputs": []
    },
    {
      "cell_type": "code",
      "metadata": {
        "id": "1H91tVWU_EE9",
        "colab_type": "code",
        "colab": {}
      },
      "source": [
        "import matplotlib.pyplot as plt\n",
        "%matplotlib inline"
      ],
      "execution_count": 0,
      "outputs": []
    },
    {
      "cell_type": "code",
      "metadata": {
        "id": "KsFSh_uKALdV",
        "colab_type": "code",
        "colab": {}
      },
      "source": [
        "#this is the class which will have 3 circle objects\n",
        "class Circle(object):\n",
        "\n",
        "  def __init__(self,radius,color):\n",
        "    self.radius=radius\n",
        "    self.color=color\n",
        "\n",
        "  def drawCircle(self):\n",
        "    plt.gca().add_patch(plt.Circle((0,0),radius=self.radius, fc=self.color))\n",
        "    plt.axis('scaled')\n",
        "\n",
        "    plt.show()"
      ],
      "execution_count": 0,
      "outputs": []
    },
    {
      "cell_type": "code",
      "metadata": {
        "id": "tEL00yPgALu8",
        "colab_type": "code",
        "colab": {
          "base_uri": "https://localhost:8080/",
          "height": 265
        },
        "outputId": "8bd53499-6f8b-42d5-ace0-455c666a2345"
      },
      "source": [
        "smally_green_circle=Circle(0.01,'green')\n",
        "smally_green_circle.drawCircle()"
      ],
      "execution_count": 16,
      "outputs": [
        {
          "output_type": "display_data",
          "data": {
            "image/png": "[encoded data removed]",
            "text/plain": [
              "<Figure size 432x288 with 1 Axes>"
            ]
          },
          "metadata": {
            "tags": [],
            "needs_background": "light"
          }
        }
      ]
    },
    {
      "cell_type": "code",
      "metadata": {
        "id": "YiBHq1uMAMGG",
        "colab_type": "code",
        "colab": {
          "base_uri": "https://localhost:8080/",
          "height": 265
        },
        "outputId": "0f8d29d9-3d40-4c6d-a25e-a4879949166d"
      },
      "source": [
        "\n",
        "magenta_circle=Circle(8,'magenta')\n",
        "magenta_circle.drawCircle()"
      ],
      "execution_count": 17,
      "outputs": [
        {
          "output_type": "display_data",
          "data": {
            "image/png": "[encoded data removed]",
            "text/plain": [
              "<Figure size 432x288 with 1 Axes>"
            ]
          },
          "metadata": {
            "tags": [],
            "needs_background": "light"
          }
        }
      ]
    },
    {
      "cell_type": "code",
      "metadata": {
        "id": "K5lfklmME4AT",
        "colab_type": "code",
        "colab": {
          "base_uri": "https://localhost:8080/",
          "height": 265
        },
        "outputId": "984dba94-5ecf-4f15-87f4-248a1612577d"
      },
      "source": [
        "\n",
        "\n",
        "\n",
        "\n",
        "big_purple_circle=Circle(100,'purple')\n",
        "big_purple_circle.drawCircle()"
      ],
      "execution_count": 18,
      "outputs": [
        {
          "output_type": "display_data",
          "data": {
            "image/png": "[encoded data removed]",
            "text/plain": [
              "<Figure size 432x288 with 1 Axes>"
            ]
          },
          "metadata": {
            "tags": [],
            "needs_background": "light"
          }
        }
      ]
    },
    {
      "cell_type": "code",
      "metadata": {
        "id": "Y1U6Kv7TAL_I",
        "colab_type": "code",
        "colab": {}
      },
      "source": [
        ""
      ],
      "execution_count": 0,
      "outputs": []
    },
    {
      "cell_type": "code",
      "metadata": {
        "id": "ebCZDSMi8siU",
        "colab_type": "code",
        "colab": {}
      },
      "source": [
        "file2=\"/content/gdrive/My Drive/file2.txt\""
      ],
      "execution_count": 0,
      "outputs": []
    },
    {
      "cell_type": "code",
      "metadata": {
        "id": "5xXj6IzX8s1E",
        "colab_type": "code",
        "colab": {}
      },
      "source": [
        "with open(file2,'w') as write_file2:\n",
        "  write_file2.write('smally_green_rectangle = width:2, height:3, color: red\\n')\n",
        "  write_file2.write('fatty_rectangle = width:80, height:80, color: green\\n')\n",
        "  write_file2.write('thin_rectangle = width:1, height:20, color: blue\\n')"
      ],
      "execution_count": 0,
      "outputs": []
    },
    {
      "cell_type": "code",
      "metadata": {
        "id": "tVa5jj978szU",
        "colab_type": "code",
        "colab": {
          "base_uri": "https://localhost:8080/",
          "height": 87
        },
        "outputId": "9d863d97-e6c7-4043-8c7e-3a465dbab57a"
      },
      "source": [
        "with open('/content/gdrive/My Drive/file2.txt', 'r') as read_file2:\n",
        "  read_rectangle=read_file2.read()\n",
        "  print(read_rectangle)"
      ],
      "execution_count": 21,
      "outputs": [
        {
          "output_type": "stream",
          "text": [
            "smally_green_rectangle = width:2, height:3, color: red\n",
            "fatty_rectangle = width:80, height:80, color: green\n",
            "thin_rectangle = width:1, height:20, color: blue\n",
            "\n"
          ],
          "name": "stdout"
        }
      ]
    },
    {
      "cell_type": "code",
      "metadata": {
        "id": "_IVHj7Pg8sun",
        "colab_type": "code",
        "colab": {}
      },
      "source": [
        "\n",
        "%matplotlib inline\n",
        "from matplotlib import pyplot as plt\n",
        "\n",
        "class Rectangle(object):\n",
        "\n",
        "  def __init__(self,width,height,color):\n",
        "    self.height=height\n",
        "    self.width=width\n",
        "    self.color=color\n",
        "  \n",
        "  def drawRectangle(self):\n",
        "    plt.gca().add_patch(plt.Rectangle((0,0),self.width,self.height,fc=self.color))\n",
        "    plt.axis('scaled')\n",
        "    plt.show()"
      ],
      "execution_count": 0,
      "outputs": []
    },
    {
      "cell_type": "code",
      "metadata": {
        "id": "6WD7iL6r4d0N",
        "colab_type": "code",
        "colab": {
          "base_uri": "https://localhost:8080/",
          "height": 265
        },
        "outputId": "d85b8506-d9bb-4bd3-d4a4-5932759a4514"
      },
      "source": [
        "smally_green_rectangle=Rectangle(2,3,'red')\n",
        "smally_green_rectangle.drawRectangle()"
      ],
      "execution_count": 23,
      "outputs": [
        {
          "output_type": "display_data",
          "data": {
            "image/png": "[encoded data removed]",
            "text/plain": [
              "<Figure size 432x288 with 1 Axes>"
            ]
          },
          "metadata": {
            "tags": [],
            "needs_background": "light"
          }
        }
      ]
    },
    {
      "cell_type": "code",
      "metadata": {
        "id": "O_PegEHaHM-_",
        "colab_type": "code",
        "colab": {
          "base_uri": "https://localhost:8080/",
          "height": 265
        },
        "outputId": "15126d90-7441-485d-ce58-42f6469dab4d"
      },
      "source": [
        "fatty_rectangle=Rectangle(80,80,'green')\n",
        "fatty_rectangle.drawRectangle()"
      ],
      "execution_count": 24,
      "outputs": [
        {
          "output_type": "display_data",
          "data": {
            "image/png": "[encoded data removed]",
            "text/plain": [
              "<Figure size 432x288 with 1 Axes>"
            ]
          },
          "metadata": {
            "tags": [],
            "needs_background": "light"
          }
        }
      ]
    },
    {
      "cell_type": "code",
      "metadata": {
        "id": "KWAeMhR3HNVp",
        "colab_type": "code",
        "colab": {
          "base_uri": "https://localhost:8080/",
          "height": 265
        },
        "outputId": "ac7cd1f3-86ab-4530-f836-ef648e40e297"
      },
      "source": [
        "thin_rectangle=Rectangle(1,20,'blue')\n",
        "thin_rectangle.drawRectangle()"
      ],
      "execution_count": 25,
      "outputs": [
        {
          "output_type": "display_data",
          "data": {
            "image/png": "[encoded data removed]",
            "text/plain": [
              "<Figure size 432x288 with 1 Axes>"
            ]
          },
          "metadata": {
            "tags": [],
            "needs_background": "light"
          }
        }
      ]
    },
    {
      "cell_type": "markdown",
      "metadata": {
        "id": "KfE1dDADIjtF",
        "colab_type": "text"
      },
      "source": [
        "#Assignment #3 \n",
        "- Create a method at Class Circle to calculate the size of the circle \n",
        "- Create a method at Class Rectangle to calcuate the size of the rectangle \n",
        "- Write the results of each calculation "
      ]
    },
    {
      "cell_type": "code",
      "metadata": {
        "id": "UKqm9EIU3mOF",
        "colab_type": "code",
        "colab": {}
      },
      "source": [
        "# First Trial; you can just rewrite the Class with a method which calculate the size of the circle like following:"
      ],
      "execution_count": 0,
      "outputs": []
    },
    {
      "cell_type": "code",
      "metadata": {
        "id": "VO8KtXfysuvs",
        "colab_type": "code",
        "colab": {}
      },
      "source": [
        "class Circle(object):\n",
        "\n",
        "  def __init__(self,radius,color):\n",
        "    self.radius=radius\n",
        "    self.color=color\n",
        "\n",
        "  def size_Circle(self):\n",
        "    print('The radius of this circle is',self.radius)\n",
        "\n",
        "  def drawCircle(self):\n",
        "    plt.gca().add_patch(plt.Circle((0,0),radius=self.radius, fc=self.color))\n",
        "    plt.axis('scaled')\n",
        "\n",
        "    plt.show()"
      ],
      "execution_count": 0,
      "outputs": []
    },
    {
      "cell_type": "code",
      "metadata": {
        "id": "8IPAYKSpU0VG",
        "colab_type": "code",
        "colab": {
          "base_uri": "https://localhost:8080/",
          "height": 34
        },
        "outputId": "9db00bc0-001c-4de2-e6ec-2986bb2fca2e"
      },
      "source": [
        "smally_green_circle=Circle(0.01,'green')\n",
        "smally_green_circle.size_Circle()"
      ],
      "execution_count": 28,
      "outputs": [
        {
          "output_type": "stream",
          "text": [
            "The radius of this circle is 0.01\n"
          ],
          "name": "stdout"
        }
      ]
    },
    {
      "cell_type": "code",
      "metadata": {
        "id": "fAeE6D0WU1GJ",
        "colab_type": "code",
        "colab": {
          "base_uri": "https://localhost:8080/",
          "height": 34
        },
        "outputId": "c72ee123-74b2-49ee-f6fc-044164e345ad"
      },
      "source": [
        "magenta_circle=Circle(8,'magenta')\n",
        "magenta_circle.size_Circle()"
      ],
      "execution_count": 29,
      "outputs": [
        {
          "output_type": "stream",
          "text": [
            "The radius of this circle is 8\n"
          ],
          "name": "stdout"
        }
      ]
    },
    {
      "cell_type": "code",
      "metadata": {
        "id": "8m9qo_QN0LNg",
        "colab_type": "code",
        "colab": {
          "base_uri": "https://localhost:8080/",
          "height": 34
        },
        "outputId": "d8d96659-537b-4f4a-f9e1-ae7e5ea970ee"
      },
      "source": [
        "big_purple_circle=Circle(100,'purple')\n",
        "big_purple_circle.size_Circle()"
      ],
      "execution_count": 30,
      "outputs": [
        {
          "output_type": "stream",
          "text": [
            "The radius of this circle is 100\n"
          ],
          "name": "stdout"
        }
      ]
    },
    {
      "cell_type": "code",
      "metadata": {
        "id": "aiZigL0_0Lf1",
        "colab_type": "code",
        "colab": {}
      },
      "source": [
        "class Rectangle(object):\n",
        "\n",
        "  def __init__(self, width,height,color):\n",
        "    self.width=width\n",
        "    self.height=height\n",
        "    self.color=color\n",
        "\n",
        "  def size_Rectangle(self):\n",
        "    print('The width of this rectangle is',self.width,'and the height of this rectangle is',self.height)\n",
        "\n",
        "  def change_color(self,c):\n",
        "    self.color=c\n",
        "    return(self.color)"
      ],
      "execution_count": 0,
      "outputs": []
    },
    {
      "cell_type": "code",
      "metadata": {
        "id": "rDbIezFG0LeF",
        "colab_type": "code",
        "colab": {
          "base_uri": "https://localhost:8080/",
          "height": 34
        },
        "outputId": "839917e7-e582-49bc-a0d8-f859bc2edaac"
      },
      "source": [
        "smally_green_rectangle=Rectangle(2,3,'red')\n",
        "smally_green_rectangle.size_Rectangle()"
      ],
      "execution_count": 32,
      "outputs": [
        {
          "output_type": "stream",
          "text": [
            "The width of this rectangle is 2 and the height of this rectangle is 3\n"
          ],
          "name": "stdout"
        }
      ]
    },
    {
      "cell_type": "code",
      "metadata": {
        "id": "dqec9xnZ0LaH",
        "colab_type": "code",
        "colab": {
          "base_uri": "https://localhost:8080/",
          "height": 34
        },
        "outputId": "aeba6e98-d6a0-4621-add1-edee280c90f8"
      },
      "source": [
        "fatty_rectangle=Rectangle(80,80,'green')\n",
        "fatty_rectangle.size_Rectangle()"
      ],
      "execution_count": 33,
      "outputs": [
        {
          "output_type": "stream",
          "text": [
            "The width of this rectangle is 80 and the height of this rectangle is 80\n"
          ],
          "name": "stdout"
        }
      ]
    },
    {
      "cell_type": "code",
      "metadata": {
        "id": "20HoU_xe0LWm",
        "colab_type": "code",
        "colab": {
          "base_uri": "https://localhost:8080/",
          "height": 34
        },
        "outputId": "f7a2f4d1-83df-45b1-819d-00acc1dec66d"
      },
      "source": [
        "thin_rectangle=Rectangle(1,20,'blue')\n",
        "thin_rectangle.size_Rectangle()"
      ],
      "execution_count": 34,
      "outputs": [
        {
          "output_type": "stream",
          "text": [
            "The width of this rectangle is 1 and the height of this rectangle is 20\n"
          ],
          "name": "stdout"
        }
      ]
    },
    {
      "cell_type": "code",
      "metadata": {
        "id": "BQYhUVIXfx8f",
        "colab_type": "code",
        "colab": {}
      },
      "source": [
        "# However, it is too inefficient to define all the class again to add a method.\n",
        "# Therefore, I searched for some solution to add a method into the pre-existing Class."
      ],
      "execution_count": 0,
      "outputs": []
    },
    {
      "cell_type": "code",
      "metadata": {
        "id": "ZoIGZ7MyagcK",
        "colab_type": "code",
        "colab": {}
      },
      "source": [
        "#first, define a method that I want to put in like following:\n",
        "\n",
        "def size_Circle_trial_2(self):\n",
        "  print('The radius of this circle is',self.radius)"
      ],
      "execution_count": 0,
      "outputs": []
    },
    {
      "cell_type": "code",
      "metadata": {
        "id": "Gz16_kUjgKtH",
        "colab_type": "code",
        "colab": {}
      },
      "source": [
        "from types import MethodType"
      ],
      "execution_count": 0,
      "outputs": []
    },
    {
      "cell_type": "code",
      "metadata": {
        "id": "-ebdaSf3gQ5K",
        "colab_type": "code",
        "colab": {
          "base_uri": "https://localhost:8080/",
          "height": 34
        },
        "outputId": "fb46e619-1782-4c89-c149-6769b0440707"
      },
      "source": [
        "smally_green_circle.size = MethodType(size_Circle_trial_2, smally_green_circle)\n",
        "smally_green_circle.size()"
      ],
      "execution_count": 38,
      "outputs": [
        {
          "output_type": "stream",
          "text": [
            "The radius of this circle is 0.01\n"
          ],
          "name": "stdout"
        }
      ]
    },
    {
      "cell_type": "code",
      "metadata": {
        "id": "AEuBjmSRgRhE",
        "colab_type": "code",
        "colab": {
          "base_uri": "https://localhost:8080/",
          "height": 34
        },
        "outputId": "4fa165f3-225f-4a74-d142-9bb111fbb1da"
      },
      "source": [
        "magenta_circle.size=MethodType(size_Circle_trial_2,magenta_circle)\n",
        "magenta_circle.size()"
      ],
      "execution_count": 39,
      "outputs": [
        {
          "output_type": "stream",
          "text": [
            "The radius of this circle is 8\n"
          ],
          "name": "stdout"
        }
      ]
    },
    {
      "cell_type": "code",
      "metadata": {
        "id": "QVw9AxflgRe0",
        "colab_type": "code",
        "colab": {
          "base_uri": "https://localhost:8080/",
          "height": 34
        },
        "outputId": "2c8d72dc-ec8e-45b9-a654-b1e8ff56fb00"
      },
      "source": [
        "big_purple_circle.size=MethodType(size_Circle_trial_2,big_purple_circle)\n",
        "big_purple_circle.size()"
      ],
      "execution_count": 40,
      "outputs": [
        {
          "output_type": "stream",
          "text": [
            "The radius of this circle is 100\n"
          ],
          "name": "stdout"
        }
      ]
    },
    {
      "cell_type": "code",
      "metadata": {
        "id": "9hMC9ekBz2a6",
        "colab_type": "code",
        "colab": {}
      },
      "source": [
        "# rectangle\n",
        "\n",
        "def size_Rectangle_trial_2(self):\n",
        "    print('The width of this rectangle is',self.width,'and the height of this rectangle is',self.height)"
      ],
      "execution_count": 0,
      "outputs": []
    },
    {
      "cell_type": "code",
      "metadata": {
        "id": "PhX8g9rptB2w",
        "colab_type": "code",
        "colab": {}
      },
      "source": [
        "from types import MethodType"
      ],
      "execution_count": 0,
      "outputs": []
    },
    {
      "cell_type": "code",
      "metadata": {
        "id": "ZRB0aHlxddQc",
        "colab_type": "code",
        "colab": {
          "base_uri": "https://localhost:8080/",
          "height": 34
        },
        "outputId": "b680002a-27f2-405b-90c3-14afbae9b28d"
      },
      "source": [
        "smally_green_rectangle.size= MethodType(size_Rectangle_trial_2,smally_green_rectangle)\n",
        "smally_green_rectangle.size()"
      ],
      "execution_count": 43,
      "outputs": [
        {
          "output_type": "stream",
          "text": [
            "The width of this rectangle is 2 and the height of this rectangle is 3\n"
          ],
          "name": "stdout"
        }
      ]
    },
    {
      "cell_type": "code",
      "metadata": {
        "id": "wPW8CnyWu0D1",
        "colab_type": "code",
        "colab": {
          "base_uri": "https://localhost:8080/",
          "height": 34
        },
        "outputId": "c86c61bd-c488-4cdd-e2af-a92242ea1f8f"
      },
      "source": [
        "fatty_rectangle.size= MethodType(size_Rectangle_trial_2,fatty_rectangle)\n",
        "fatty_rectangle.size()"
      ],
      "execution_count": 44,
      "outputs": [
        {
          "output_type": "stream",
          "text": [
            "The width of this rectangle is 80 and the height of this rectangle is 80\n"
          ],
          "name": "stdout"
        }
      ]
    },
    {
      "cell_type": "code",
      "metadata": {
        "id": "QcCK0HEhcN2t",
        "colab_type": "code",
        "colab": {
          "base_uri": "https://localhost:8080/",
          "height": 34
        },
        "outputId": "f801b727-3915-4608-8b10-8e726c5c3f9f"
      },
      "source": [
        "thin_rectangle.size= MethodType(size_Rectangle_trial_2,thin_rectangle)\n",
        "thin_rectangle.size()"
      ],
      "execution_count": 45,
      "outputs": [
        {
          "output_type": "stream",
          "text": [
            "The width of this rectangle is 1 and the height of this rectangle is 20\n"
          ],
          "name": "stdout"
        }
      ]
    }
  ]
}