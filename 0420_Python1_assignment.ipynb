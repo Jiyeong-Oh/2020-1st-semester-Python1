{
  "nbformat": 4,
  "nbformat_minor": 0,
  "metadata": {
    "colab": {
      "name": "0420-Python1-assignment.ipynb",
      "provenance": [],
      "authorship_tag": "ABX9TyMvZa5EgOU0OoMh0J3AMiE6",
      "include_colab_link": true
    },
    "kernelspec": {
      "name": "python3",
      "display_name": "Python 3"
    }
  },
  "cells": [
    {
      "cell_type": "markdown",
      "metadata": {
        "id": "view-in-github",
        "colab_type": "text"
      },
      "source": [
        "<a href=\"https://colab.research.google.com/github/Jiyeong-Oh/Python1-assignment1/blob/master/0420_Python1_assignment.ipynb\" target=\"_parent\"><img src=\"https://colab.research.google.com/assets/colab-badge.svg\" alt=\"Open In Colab\"/></a>"
      ]
    },
    {
      "cell_type": "code",
      "metadata": {
        "id": "invV8Q3vl5-X",
        "colab_type": "code",
        "colab": {
          "base_uri": "https://localhost:8080/",
          "height": 1000
        },
        "outputId": "e934c5d7-3a87-4e2b-b8be-af943368b55a"
      },
      "source": [
        "x=3\n",
        "\n",
        "for i in range(100):\n",
        "  y=x**2+1\n",
        "  y_prime=2*x\n",
        "\n",
        "  if (y_prime>0):\n",
        "    x=x-0.1\n",
        "  else:\n",
        "    x=x+0.1\n",
        "  if(y<1.1):\n",
        "    print('the optimal solution of x is',x,'and y is at x is',y,'and we found the solution')\n",
        "  else:print('in',i,'th time we could not reach to the optimal')"
      ],
      "execution_count": 48,
      "outputs": [
        {
          "output_type": "stream",
          "text": [
            "in 0 th time we could not reach to the optimal\n",
            "in 1 th time we could not reach to the optimal\n",
            "in 2 th time we could not reach to the optimal\n",
            "in 3 th time we could not reach to the optimal\n",
            "in 4 th time we could not reach to the optimal\n",
            "in 5 th time we could not reach to the optimal\n",
            "in 6 th time we could not reach to the optimal\n",
            "in 7 th time we could not reach to the optimal\n",
            "in 8 th time we could not reach to the optimal\n",
            "in 9 th time we could not reach to the optimal\n",
            "in 10 th time we could not reach to the optimal\n",
            "in 11 th time we could not reach to the optimal\n",
            "in 12 th time we could not reach to the optimal\n",
            "in 13 th time we could not reach to the optimal\n",
            "in 14 th time we could not reach to the optimal\n",
            "in 15 th time we could not reach to the optimal\n",
            "in 16 th time we could not reach to the optimal\n",
            "in 17 th time we could not reach to the optimal\n",
            "in 18 th time we could not reach to the optimal\n",
            "in 19 th time we could not reach to the optimal\n",
            "in 20 th time we could not reach to the optimal\n",
            "in 21 th time we could not reach to the optimal\n",
            "in 22 th time we could not reach to the optimal\n",
            "in 23 th time we could not reach to the optimal\n",
            "in 24 th time we could not reach to the optimal\n",
            "in 25 th time we could not reach to the optimal\n",
            "in 26 th time we could not reach to the optimal\n",
            "the optimal solution of x is 0.19999999999999848 and y is at x is 1.0899999999999992 and we found the solution\n",
            "the optimal solution of x is 0.09999999999999848 and y is at x is 1.0399999999999994 and we found the solution\n",
            "the optimal solution of x is -1.5265566588595902e-15 and y is at x is 1.0099999999999998 and we found the solution\n",
            "the optimal solution of x is 0.09999999999999848 and y is at x is 1.0 and we found the solution\n",
            "the optimal solution of x is -1.5265566588595902e-15 and y is at x is 1.0099999999999998 and we found the solution\n",
            "the optimal solution of x is 0.09999999999999848 and y is at x is 1.0 and we found the solution\n",
            "the optimal solution of x is -1.5265566588595902e-15 and y is at x is 1.0099999999999998 and we found the solution\n",
            "the optimal solution of x is 0.09999999999999848 and y is at x is 1.0 and we found the solution\n",
            "the optimal solution of x is -1.5265566588595902e-15 and y is at x is 1.0099999999999998 and we found the solution\n",
            "the optimal solution of x is 0.09999999999999848 and y is at x is 1.0 and we found the solution\n",
            "the optimal solution of x is -1.5265566588595902e-15 and y is at x is 1.0099999999999998 and we found the solution\n",
            "the optimal solution of x is 0.09999999999999848 and y is at x is 1.0 and we found the solution\n",
            "the optimal solution of x is -1.5265566588595902e-15 and y is at x is 1.0099999999999998 and we found the solution\n",
            "the optimal solution of x is 0.09999999999999848 and y is at x is 1.0 and we found the solution\n",
            "the optimal solution of x is -1.5265566588595902e-15 and y is at x is 1.0099999999999998 and we found the solution\n",
            "the optimal solution of x is 0.09999999999999848 and y is at x is 1.0 and we found the solution\n",
            "the optimal solution of x is -1.5265566588595902e-15 and y is at x is 1.0099999999999998 and we found the solution\n",
            "the optimal solution of x is 0.09999999999999848 and y is at x is 1.0 and we found the solution\n",
            "the optimal solution of x is -1.5265566588595902e-15 and y is at x is 1.0099999999999998 and we found the solution\n",
            "the optimal solution of x is 0.09999999999999848 and y is at x is 1.0 and we found the solution\n",
            "the optimal solution of x is -1.5265566588595902e-15 and y is at x is 1.0099999999999998 and we found the solution\n",
            "the optimal solution of x is 0.09999999999999848 and y is at x is 1.0 and we found the solution\n",
            "the optimal solution of x is -1.5265566588595902e-15 and y is at x is 1.0099999999999998 and we found the solution\n",
            "the optimal solution of x is 0.09999999999999848 and y is at x is 1.0 and we found the solution\n",
            "the optimal solution of x is -1.5265566588595902e-15 and y is at x is 1.0099999999999998 and we found the solution\n",
            "the optimal solution of x is 0.09999999999999848 and y is at x is 1.0 and we found the solution\n",
            "the optimal solution of x is -1.5265566588595902e-15 and y is at x is 1.0099999999999998 and we found the solution\n",
            "the optimal solution of x is 0.09999999999999848 and y is at x is 1.0 and we found the solution\n",
            "the optimal solution of x is -1.5265566588595902e-15 and y is at x is 1.0099999999999998 and we found the solution\n",
            "the optimal solution of x is 0.09999999999999848 and y is at x is 1.0 and we found the solution\n",
            "the optimal solution of x is -1.5265566588595902e-15 and y is at x is 1.0099999999999998 and we found the solution\n",
            "the optimal solution of x is 0.09999999999999848 and y is at x is 1.0 and we found the solution\n",
            "the optimal solution of x is -1.5265566588595902e-15 and y is at x is 1.0099999999999998 and we found the solution\n",
            "the optimal solution of x is 0.09999999999999848 and y is at x is 1.0 and we found the solution\n",
            "the optimal solution of x is -1.5265566588595902e-15 and y is at x is 1.0099999999999998 and we found the solution\n",
            "the optimal solution of x is 0.09999999999999848 and y is at x is 1.0 and we found the solution\n",
            "the optimal solution of x is -1.5265566588595902e-15 and y is at x is 1.0099999999999998 and we found the solution\n",
            "the optimal solution of x is 0.09999999999999848 and y is at x is 1.0 and we found the solution\n",
            "the optimal solution of x is -1.5265566588595902e-15 and y is at x is 1.0099999999999998 and we found the solution\n",
            "the optimal solution of x is 0.09999999999999848 and y is at x is 1.0 and we found the solution\n",
            "the optimal solution of x is -1.5265566588595902e-15 and y is at x is 1.0099999999999998 and we found the solution\n",
            "the optimal solution of x is 0.09999999999999848 and y is at x is 1.0 and we found the solution\n",
            "the optimal solution of x is -1.5265566588595902e-15 and y is at x is 1.0099999999999998 and we found the solution\n",
            "the optimal solution of x is 0.09999999999999848 and y is at x is 1.0 and we found the solution\n",
            "the optimal solution of x is -1.5265566588595902e-15 and y is at x is 1.0099999999999998 and we found the solution\n",
            "the optimal solution of x is 0.09999999999999848 and y is at x is 1.0 and we found the solution\n",
            "the optimal solution of x is -1.5265566588595902e-15 and y is at x is 1.0099999999999998 and we found the solution\n",
            "the optimal solution of x is 0.09999999999999848 and y is at x is 1.0 and we found the solution\n",
            "the optimal solution of x is -1.5265566588595902e-15 and y is at x is 1.0099999999999998 and we found the solution\n",
            "the optimal solution of x is 0.09999999999999848 and y is at x is 1.0 and we found the solution\n",
            "the optimal solution of x is -1.5265566588595902e-15 and y is at x is 1.0099999999999998 and we found the solution\n",
            "the optimal solution of x is 0.09999999999999848 and y is at x is 1.0 and we found the solution\n",
            "the optimal solution of x is -1.5265566588595902e-15 and y is at x is 1.0099999999999998 and we found the solution\n",
            "the optimal solution of x is 0.09999999999999848 and y is at x is 1.0 and we found the solution\n",
            "the optimal solution of x is -1.5265566588595902e-15 and y is at x is 1.0099999999999998 and we found the solution\n",
            "the optimal solution of x is 0.09999999999999848 and y is at x is 1.0 and we found the solution\n",
            "the optimal solution of x is -1.5265566588595902e-15 and y is at x is 1.0099999999999998 and we found the solution\n",
            "the optimal solution of x is 0.09999999999999848 and y is at x is 1.0 and we found the solution\n",
            "the optimal solution of x is -1.5265566588595902e-15 and y is at x is 1.0099999999999998 and we found the solution\n",
            "the optimal solution of x is 0.09999999999999848 and y is at x is 1.0 and we found the solution\n",
            "the optimal solution of x is -1.5265566588595902e-15 and y is at x is 1.0099999999999998 and we found the solution\n",
            "the optimal solution of x is 0.09999999999999848 and y is at x is 1.0 and we found the solution\n",
            "the optimal solution of x is -1.5265566588595902e-15 and y is at x is 1.0099999999999998 and we found the solution\n",
            "the optimal solution of x is 0.09999999999999848 and y is at x is 1.0 and we found the solution\n",
            "the optimal solution of x is -1.5265566588595902e-15 and y is at x is 1.0099999999999998 and we found the solution\n",
            "the optimal solution of x is 0.09999999999999848 and y is at x is 1.0 and we found the solution\n",
            "the optimal solution of x is -1.5265566588595902e-15 and y is at x is 1.0099999999999998 and we found the solution\n",
            "the optimal solution of x is 0.09999999999999848 and y is at x is 1.0 and we found the solution\n",
            "the optimal solution of x is -1.5265566588595902e-15 and y is at x is 1.0099999999999998 and we found the solution\n",
            "the optimal solution of x is 0.09999999999999848 and y is at x is 1.0 and we found the solution\n",
            "the optimal solution of x is -1.5265566588595902e-15 and y is at x is 1.0099999999999998 and we found the solution\n",
            "the optimal solution of x is 0.09999999999999848 and y is at x is 1.0 and we found the solution\n",
            "the optimal solution of x is -1.5265566588595902e-15 and y is at x is 1.0099999999999998 and we found the solution\n"
          ],
          "name": "stdout"
        }
      ]
    },
    {
      "cell_type": "markdown",
      "metadata": {
        "id": "ShSWwSF1l8An",
        "colab_type": "text"
      },
      "source": [
        "# Assignment\n",
        "apply Newton method to find the solution from the codes above.\n",
        "\n",
        "And then, compare how many times you have saved the number of calculation."
      ]
    },
    {
      "cell_type": "markdown",
      "metadata": {
        "id": "G_rLVBvM9mCB",
        "colab_type": "text"
      },
      "source": [
        "\n",
        " As the tangent line(접선) (of the function) is y_prime*(new_x-x)+y,(접선의 방정식), I decided to use a equation which represents the new x as the tangent line changes.\n",
        "\n",
        " And I decided to use the while loop to make the newton method like following:"
      ]
    },
    {
      "cell_type": "code",
      "metadata": {
        "id": "dwqcYsc10thb",
        "colab_type": "code",
        "colab": {
          "base_uri": "https://localhost:8080/",
          "height": 52
        },
        "outputId": "2b06dda6-7ead-4e2f-c9d0-10a037db9f44"
      },
      "source": [
        "x=3\n",
        "\n",
        "while (y_prime !=0):\n",
        "  y=x**2+1\n",
        "  y_prime=2*x\n",
        "  x=x-(y/y_prime)\n",
        "  y=x**2+1 # I repeated y=x**2+1 here because the old y represents the function value(함숫값) of the old tangent line(접선), not the function value of the new x.\n",
        "  print('the optimal solution of x is',x,'and y at x is',y,'and we found the solution')\n",
        "  if(y<1.1): break"
      ],
      "execution_count": 49,
      "outputs": [
        {
          "output_type": "stream",
          "text": [
            "the optimal solution of x is 1.3333333333333333 and y at x is 2.7777777777777777 and we found the solution\n",
            "the optimal solution of x is 0.2916666666666665 and y at x is 1.0850694444444444 and we found the solution\n"
          ],
          "name": "stdout"
        }
      ]
    },
    {
      "cell_type": "markdown",
      "metadata": {
        "id": "SgP3mzRt9VCn",
        "colab_type": "text"
      },
      "source": [
        "As you see in the code above, it takes only two repititions to reach the point.\n",
        "\n",
        "Considering the circumstance of first code and second code is exactly same,(x starts from 3 and the repetition ends when y<1.1), newton method is much convenient to find the optimal solution than using gradient descent method.\n",
        "\n",
        "\n",
        "Then, to make the optimal solution precisely, I can change the circumstance of the code like following:"
      ]
    },
    {
      "cell_type": "code",
      "metadata": {
        "id": "Mto28BSL9Ews",
        "colab_type": "code",
        "colab": {
          "base_uri": "https://localhost:8080/",
          "height": 228
        },
        "outputId": "d512dd84-153b-4ed5-865a-d3aaf9b401f6"
      },
      "source": [
        "x=3\n",
        "\n",
        "while (y_prime !=0):\n",
        "  y=x**2+1\n",
        "  y_prime=2*x\n",
        "  x=x-(y/y_prime)\n",
        "  y=x**2+1 # I repeated y=x**2+1 here because the old y represents the function value(함숫값) of the old tangent line(접선), not the function value of the new x.\n",
        "  print('the optimal solution of x is',x,'and y at x is',y,'and we found the solution')\n",
        "  if(y<1.0001): break"
      ],
      "execution_count": 50,
      "outputs": [
        {
          "output_type": "stream",
          "text": [
            "the optimal solution of x is 1.3333333333333333 and y at x is 2.7777777777777777 and we found the solution\n",
            "the optimal solution of x is 0.2916666666666665 and y at x is 1.0850694444444444 and we found the solution\n",
            "the optimal solution of x is -1.568452380952382 and y at x is 3.460042871315196 and we found the solution\n",
            "the optimal solution of x is -0.4654406117285632 and y at x is 1.2166349630462592 and we found the solution\n",
            "the optimal solution of x is 0.8415306026309815 and y at x is 1.708173755164463 and we found the solution\n",
            "the optimal solution of x is -0.17339015593916884 and y at x is 1.0300641461766094 and we found the solution\n",
            "the optimal solution of x is 2.7969749740685312 and y at x is 8.82306900556566 and we found the solution\n",
            "the optimal solution of x is 1.2197229272381904 and y at x is 2.4877240192305 and we found the solution\n",
            "the optimal solution of x is 0.19993229951610814 and y at x is 1.0399729243897988 and we found the solution\n",
            "the optimal solution of x is -2.4008803928473146 and y at x is 6.764226660758675 and we found the solution\n",
            "the optimal solution of x is -0.9921832580565499 and y at x is 1.9844276175677105 and we found the solution\n",
            "the optimal solution of x is 0.007847533359307102 and y at x is 1.0000615837798255 and we found the solution\n"
          ],
          "name": "stdout"
        }
      ]
    },
    {
      "cell_type": "markdown",
      "metadata": {
        "id": "4j9JhryXBRJm",
        "colab_type": "text"
      },
      "source": [
        "Eventhough the result got much closer to the algebraic answer(x=0,y=1), it saved a lot of calculations, comparing with the very first code(gradient descent method)"
      ]
    }
  ]
}